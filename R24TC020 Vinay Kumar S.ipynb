{
  "nbformat": 4,
  "nbformat_minor": 0,
  "metadata": {
    "colab": {
      "provenance": []
    },
    "kernelspec": {
      "name": "python3",
      "display_name": "Python 3"
    },
    "language_info": {
      "name": "python"
    }
  },
  "cells": [
    {
      "cell_type": "markdown",
      "source": [
        "# **Preprocessing Steps for Sleep Health Dataset**"
      ],
      "metadata": {
        "id": "FKqi5OcBZxnk"
      }
    },
    {
      "cell_type": "code",
      "execution_count": null,
      "metadata": {
        "colab": {
          "base_uri": "https://localhost:8080/"
        },
        "id": "J1evBSQsZp0e",
        "outputId": "477fdd9f-868b-4a9c-c4db-d4a38afeba21"
      },
      "outputs": [
        {
          "output_type": "stream",
          "name": "stdout",
          "text": [
            "   Person ID  Gender  Age Occupation  Sleep Duration  Physical Activity Level  \\\n",
            "0          1    Male   25   Engineer             6.5                       30   \n",
            "1          2  Female   30     Doctor             7.0                       45   \n",
            "2          3    Male   35    Teacher             8.0                       60   \n",
            "3          4  Female   40      Nurse             5.5                       20   \n",
            "4          5    Male   45     Lawyer             6.0                       35   \n",
            "\n",
            "   Stress Level BMI Category Blood Pressure Sleep Disorder  \n",
            "0             5       Normal         120/80            NaN  \n",
            "1             4   Overweight         130/85       Insomnia  \n",
            "2             3        Obese         140/90    Sleep Apnea  \n",
            "3             6       Normal         110/75            NaN  \n",
            "4             5   Overweight         135/88       Insomnia  \n",
            "<class 'pandas.core.frame.DataFrame'>\n",
            "RangeIndex: 20 entries, 0 to 19\n",
            "Data columns (total 10 columns):\n",
            " #   Column                   Non-Null Count  Dtype  \n",
            "---  ------                   --------------  -----  \n",
            " 0   Person ID                20 non-null     int64  \n",
            " 1   Gender                   20 non-null     object \n",
            " 2   Age                      20 non-null     int64  \n",
            " 3   Occupation               20 non-null     object \n",
            " 4   Sleep Duration           20 non-null     float64\n",
            " 5   Physical Activity Level  20 non-null     int64  \n",
            " 6   Stress Level             20 non-null     int64  \n",
            " 7   BMI Category             20 non-null     object \n",
            " 8   Blood Pressure           20 non-null     object \n",
            " 9   Sleep Disorder           13 non-null     object \n",
            "dtypes: float64(1), int64(4), object(5)\n",
            "memory usage: 1.7+ KB\n",
            "None\n",
            "       Person ID        Age  Sleep Duration  Physical Activity Level  \\\n",
            "count   20.00000  20.000000       20.000000                20.000000   \n",
            "mean    10.50000  42.200000        6.775000                44.500000   \n",
            "std      5.91608  11.119447        0.979729                16.772471   \n",
            "min      1.00000  25.000000        5.000000                20.000000   \n",
            "25%      5.75000  33.750000        6.000000                30.000000   \n",
            "50%     10.50000  41.000000        6.750000                45.000000   \n",
            "75%     15.25000  50.500000        7.500000                56.250000   \n",
            "max     20.00000  62.000000        8.500000                75.000000   \n",
            "\n",
            "       Stress Level  \n",
            "count     20.000000  \n",
            "mean       4.200000  \n",
            "std        1.321881  \n",
            "min        2.000000  \n",
            "25%        3.000000  \n",
            "50%        4.000000  \n",
            "75%        5.000000  \n",
            "max        6.000000  \n"
          ]
        }
      ],
      "source": [
        "# Import libraries\n",
        "import pandas as pd\n",
        "import numpy as np\n",
        "from sklearn.model_selection import train_test_split\n",
        "from sklearn.preprocessing import StandardScaler, LabelEncoder, OneHotEncoder\n",
        "\n",
        "# 1. Load Dataset\n",
        "file_name = list(uploaded.keys())[0]\n",
        "df = pd.read_csv(file_name)\n",
        "\n",
        "# Quick look\n",
        "print(df.head())\n",
        "print(df.info())\n",
        "print(df.describe())"
      ]
    },
    {
      "cell_type": "markdown",
      "source": [],
      "metadata": {
        "id": "sYG2fSdNZw4j"
      }
    },
    {
      "cell_type": "code",
      "metadata": {
        "colab": {
          "base_uri": "https://localhost:8080/",
          "height": 110
        },
        "id": "8562c3b8",
        "outputId": "37eb82c4-b471-4955-a40d-2f6a42c71a8e"
      },
      "source": [
        "from google.colab import files\n",
        "\n",
        "uploaded = files.upload()\n",
        "\n",
        "for fn in uploaded.keys():\n",
        "  print(f'User uploaded file \"{fn}\" with length {uploaded[fn]} bytes')"
      ],
      "execution_count": null,
      "outputs": [
        {
          "output_type": "display_data",
          "data": {
            "text/plain": [
              "<IPython.core.display.HTML object>"
            ],
            "text/html": [
              "\n",
              "     <input type=\"file\" id=\"files-60788de4-0d96-4f00-a74b-e9531a025c2b\" name=\"files[]\" multiple disabled\n",
              "        style=\"border:none\" />\n",
              "     <output id=\"result-60788de4-0d96-4f00-a74b-e9531a025c2b\">\n",
              "      Upload widget is only available when the cell has been executed in the\n",
              "      current browser session. Please rerun this cell to enable.\n",
              "      </output>\n",
              "      <script>// Copyright 2017 Google LLC\n",
              "//\n",
              "// Licensed under the Apache License, Version 2.0 (the \"License\");\n",
              "// you may not use this file except in compliance with the License.\n",
              "// You may obtain a copy of the License at\n",
              "//\n",
              "//      http://www.apache.org/licenses/LICENSE-2.0\n",
              "//\n",
              "// Unless required by applicable law or agreed to in writing, software\n",
              "// distributed under the License is distributed on an \"AS IS\" BASIS,\n",
              "// WITHOUT WARRANTIES OR CONDITIONS OF ANY KIND, either express or implied.\n",
              "// See the License for the specific language governing permissions and\n",
              "// limitations under the License.\n",
              "\n",
              "/**\n",
              " * @fileoverview Helpers for google.colab Python module.\n",
              " */\n",
              "(function(scope) {\n",
              "function span(text, styleAttributes = {}) {\n",
              "  const element = document.createElement('span');\n",
              "  element.textContent = text;\n",
              "  for (const key of Object.keys(styleAttributes)) {\n",
              "    element.style[key] = styleAttributes[key];\n",
              "  }\n",
              "  return element;\n",
              "}\n",
              "\n",
              "// Max number of bytes which will be uploaded at a time.\n",
              "const MAX_PAYLOAD_SIZE = 100 * 1024;\n",
              "\n",
              "function _uploadFiles(inputId, outputId) {\n",
              "  const steps = uploadFilesStep(inputId, outputId);\n",
              "  const outputElement = document.getElementById(outputId);\n",
              "  // Cache steps on the outputElement to make it available for the next call\n",
              "  // to uploadFilesContinue from Python.\n",
              "  outputElement.steps = steps;\n",
              "\n",
              "  return _uploadFilesContinue(outputId);\n",
              "}\n",
              "\n",
              "// This is roughly an async generator (not supported in the browser yet),\n",
              "// where there are multiple asynchronous steps and the Python side is going\n",
              "// to poll for completion of each step.\n",
              "// This uses a Promise to block the python side on completion of each step,\n",
              "// then passes the result of the previous step as the input to the next step.\n",
              "function _uploadFilesContinue(outputId) {\n",
              "  const outputElement = document.getElementById(outputId);\n",
              "  const steps = outputElement.steps;\n",
              "\n",
              "  const next = steps.next(outputElement.lastPromiseValue);\n",
              "  return Promise.resolve(next.value.promise).then((value) => {\n",
              "    // Cache the last promise value to make it available to the next\n",
              "    // step of the generator.\n",
              "    outputElement.lastPromiseValue = value;\n",
              "    return next.value.response;\n",
              "  });\n",
              "}\n",
              "\n",
              "/**\n",
              " * Generator function which is called between each async step of the upload\n",
              " * process.\n",
              " * @param {string} inputId Element ID of the input file picker element.\n",
              " * @param {string} outputId Element ID of the output display.\n",
              " * @return {!Iterable<!Object>} Iterable of next steps.\n",
              " */\n",
              "function* uploadFilesStep(inputId, outputId) {\n",
              "  const inputElement = document.getElementById(inputId);\n",
              "  inputElement.disabled = false;\n",
              "\n",
              "  const outputElement = document.getElementById(outputId);\n",
              "  outputElement.innerHTML = '';\n",
              "\n",
              "  const pickedPromise = new Promise((resolve) => {\n",
              "    inputElement.addEventListener('change', (e) => {\n",
              "      resolve(e.target.files);\n",
              "    });\n",
              "  });\n",
              "\n",
              "  const cancel = document.createElement('button');\n",
              "  inputElement.parentElement.appendChild(cancel);\n",
              "  cancel.textContent = 'Cancel upload';\n",
              "  const cancelPromise = new Promise((resolve) => {\n",
              "    cancel.onclick = () => {\n",
              "      resolve(null);\n",
              "    };\n",
              "  });\n",
              "\n",
              "  // Wait for the user to pick the files.\n",
              "  const files = yield {\n",
              "    promise: Promise.race([pickedPromise, cancelPromise]),\n",
              "    response: {\n",
              "      action: 'starting',\n",
              "    }\n",
              "  };\n",
              "\n",
              "  cancel.remove();\n",
              "\n",
              "  // Disable the input element since further picks are not allowed.\n",
              "  inputElement.disabled = true;\n",
              "\n",
              "  if (!files) {\n",
              "    return {\n",
              "      response: {\n",
              "        action: 'complete',\n",
              "      }\n",
              "    };\n",
              "  }\n",
              "\n",
              "  for (const file of files) {\n",
              "    const li = document.createElement('li');\n",
              "    li.append(span(file.name, {fontWeight: 'bold'}));\n",
              "    li.append(span(\n",
              "        `(${file.type || 'n/a'}) - ${file.size} bytes, ` +\n",
              "        `last modified: ${\n",
              "            file.lastModifiedDate ? file.lastModifiedDate.toLocaleDateString() :\n",
              "                                    'n/a'} - `));\n",
              "    const percent = span('0% done');\n",
              "    li.appendChild(percent);\n",
              "\n",
              "    outputElement.appendChild(li);\n",
              "\n",
              "    const fileDataPromise = new Promise((resolve) => {\n",
              "      const reader = new FileReader();\n",
              "      reader.onload = (e) => {\n",
              "        resolve(e.target.result);\n",
              "      };\n",
              "      reader.readAsArrayBuffer(file);\n",
              "    });\n",
              "    // Wait for the data to be ready.\n",
              "    let fileData = yield {\n",
              "      promise: fileDataPromise,\n",
              "      response: {\n",
              "        action: 'continue',\n",
              "      }\n",
              "    };\n",
              "\n",
              "    // Use a chunked sending to avoid message size limits. See b/62115660.\n",
              "    let position = 0;\n",
              "    do {\n",
              "      const length = Math.min(fileData.byteLength - position, MAX_PAYLOAD_SIZE);\n",
              "      const chunk = new Uint8Array(fileData, position, length);\n",
              "      position += length;\n",
              "\n",
              "      const base64 = btoa(String.fromCharCode.apply(null, chunk));\n",
              "      yield {\n",
              "        response: {\n",
              "          action: 'append',\n",
              "          file: file.name,\n",
              "          data: base64,\n",
              "        },\n",
              "      };\n",
              "\n",
              "      let percentDone = fileData.byteLength === 0 ?\n",
              "          100 :\n",
              "          Math.round((position / fileData.byteLength) * 100);\n",
              "      percent.textContent = `${percentDone}% done`;\n",
              "\n",
              "    } while (position < fileData.byteLength);\n",
              "  }\n",
              "\n",
              "  // All done.\n",
              "  yield {\n",
              "    response: {\n",
              "      action: 'complete',\n",
              "    }\n",
              "  };\n",
              "}\n",
              "\n",
              "scope.google = scope.google || {};\n",
              "scope.google.colab = scope.google.colab || {};\n",
              "scope.google.colab._files = {\n",
              "  _uploadFiles,\n",
              "  _uploadFilesContinue,\n",
              "};\n",
              "})(self);\n",
              "</script> "
            ]
          },
          "metadata": {}
        },
        {
          "output_type": "stream",
          "name": "stdout",
          "text": [
            "Saving sleep_health_and_lifestyle_dataset.csv to sleep_health_and_lifestyle_dataset (1).csv\n",
            "User uploaded file \"sleep_health_and_lifestyle_dataset (1).csv\" with length b'Person ID,Gender,Age,Occupation,Sleep Duration,Physical Activity Level,Stress Level,BMI Category,Blood Pressure,Sleep Disorder\\n1,Male,25,Engineer,6.5,30,5,Normal,120/80,None\\n2,Female,30,Doctor,7.0,45,4,Overweight,130/85,Insomnia\\n3,Male,35,Teacher,8.0,60,3,Obese,140/90,Sleep Apnea\\n4,Female,40,Nurse,5.5,20,6,Normal,110/75,None\\n5,Male,45,Lawyer,6.0,35,5,Overweight,135/88,Insomnia\\n6,Female,50,Scientist,7.5,50,2,Obese,145/95,Sleep Apnea\\n7,Male,55,Artist,8.5,70,3,Normal,118/78,None\\n8,Female,60,Manager,6.0,25,6,Overweight,125/82,Insomnia\\n9,Male,28,Engineer,7.0,40,4,Obese,138/92,Sleep Apnea\\n10,Female,33,Doctor,6.5,55,5,Normal,115/76,None\\n11,Male,37,Teacher,8.0,65,3,Overweight,128/84,Insomnia\\n12,Female,42,Nurse,5.0,30,6,Obese,142/96,Sleep Apnea\\n13,Male,47,Lawyer,7.5,50,4,Normal,122/80,None\\n14,Female,52,Scientist,6.0,45,2,Overweight,134/86,Insomnia\\n15,Male,57,Artist,8.0,75,3,Obese,148/98,Sleep Apnea\\n16,Female,62,Manager,5.5,20,5,Normal,119/79,None\\n17,Male,29,Engineer,7.0,35,4,Overweight,126/83,Insomnia\\n18,Female,34,Doctor,6.5,60,3,Obese,137/91,Sleep Apnea\\n19,Male,39,Teacher,7.5,55,6,Normal,121/81,None\\n20,Female,44,Nurse,6.0,25,5,Overweight,133/87,Insomnia\\n' bytes\n"
          ]
        }
      ]
    },
    {
      "cell_type": "markdown",
      "source": [
        "# **Check Missing Values**"
      ],
      "metadata": {
        "id": "q8xIVY_uaYXJ"
      }
    },
    {
      "cell_type": "code",
      "source": [
        "# Check null values\n",
        "print(df.isnull().sum())\n",
        "\n",
        "# Option: fill missing values\n",
        "df['Sleep Duration'] = df['Sleep Duration'].fillna(df['Sleep Duration'].mean())  # Example for numerical\n",
        "df['Occupation'] = df['Occupation'].fillna(df['Occupation'].mode()[0])           # Example for categorical\n"
      ],
      "metadata": {
        "colab": {
          "base_uri": "https://localhost:8080/"
        },
        "id": "ZNbGDc3qaghI",
        "outputId": "b681800b-15fa-47cb-cc24-157f7eead543"
      },
      "execution_count": null,
      "outputs": [
        {
          "output_type": "stream",
          "name": "stdout",
          "text": [
            "Person ID                  0\n",
            "Gender                     0\n",
            "Age                        0\n",
            "Occupation                 0\n",
            "Sleep Duration             0\n",
            "Physical Activity Level    0\n",
            "Stress Level               0\n",
            "BMI Category               0\n",
            "Blood Pressure             0\n",
            "Sleep Disorder             7\n",
            "dtype: int64\n"
          ]
        }
      ]
    },
    {
      "cell_type": "markdown",
      "source": [
        "# **Encode Categorical Features**"
      ],
      "metadata": {
        "id": "rdzzB14Vam9p"
      }
    },
    {
      "cell_type": "code",
      "source": [
        "# Identify categorical columns\n",
        "categorical_cols = df.select_dtypes(include=['object']).columns\n",
        "print(\"Categorical Columns:\", categorical_cols)\n",
        "\n",
        "# Label encode binary categories\n",
        "le = LabelEncoder()\n",
        "df['Gender'] = le.fit_transform(df['Gender'])  # Male/Female -> 0/1\n",
        "\n",
        "# One-hot encode multi-class categorical features\n",
        "df = pd.get_dummies(df, columns=['Occupation', 'BMI Category', 'Blood Pressure'], drop_first=True)\n"
      ],
      "metadata": {
        "colab": {
          "base_uri": "https://localhost:8080/"
        },
        "id": "69K18fc8arPI",
        "outputId": "775788d3-b27a-47ec-e12b-da5071cba266"
      },
      "execution_count": null,
      "outputs": [
        {
          "output_type": "stream",
          "name": "stdout",
          "text": [
            "Categorical Columns: Index(['Gender', 'Occupation', 'BMI Category', 'Blood Pressure',\n",
            "       'Sleep Disorder'],\n",
            "      dtype='object')\n"
          ]
        }
      ]
    },
    {
      "cell_type": "markdown",
      "source": [
        "# Outlier Detection & **Handling**"
      ],
      "metadata": {
        "id": "lwrm09GXauUK"
      }
    },
    {
      "cell_type": "code",
      "source": [
        "# Example: Using IQR for 'Sleep Duration'\n",
        "Q1 = df['Sleep Duration'].quantile(0.25)\n",
        "Q3 = df['Sleep Duration'].quantile(0.75)\n",
        "IQR = Q3 - Q1\n",
        "\n",
        "# Define bounds\n",
        "lower_bound = Q1 - 1.5*IQR\n",
        "upper_bound = Q3 + 1.5*IQR\n",
        "\n",
        "# Remove outliers\n",
        "df = df[(df['Sleep Duration'] >= lower_bound) & (df['Sleep Duration'] <= upper_bound)]\n"
      ],
      "metadata": {
        "id": "LqDhqvM1at6d"
      },
      "execution_count": null,
      "outputs": []
    },
    {
      "cell_type": "markdown",
      "source": [
        "# Feature **Scaling**"
      ],
      "metadata": {
        "id": "toeUOqPVa0dN"
      }
    },
    {
      "cell_type": "code",
      "source": [
        "# Scale numerical columns\n",
        "scaler = StandardScaler()\n",
        "num_cols = ['Sleep Duration', 'Physical Activity Level', 'Stress Level']  # example columns\n",
        "df[num_cols] = scaler.fit_transform(df[num_cols])\n"
      ],
      "metadata": {
        "id": "R1YumHWha2SO"
      },
      "execution_count": null,
      "outputs": []
    },
    {
      "cell_type": "markdown",
      "source": [
        "# Train-Test **Split**"
      ],
      "metadata": {
        "id": "LkUG6HWua5e5"
      }
    },
    {
      "cell_type": "code",
      "source": [
        "# Define X, y\n",
        "X = df.drop(columns=['Sleep Disorder'])   # Features\n",
        "y = df['Sleep Disorder']                  # Target variable\n",
        "\n",
        "# Encode target\n",
        "y = le.fit_transform(y)\n",
        "\n",
        "# Split\n",
        "X_train, X_test, y_train, y_test = train_test_split(X, y, test_size=0.2, random_state=42)\n",
        "\n",
        "print(\"Train shape:\", X_train.shape)\n",
        "print(\"Test shape:\", X_test.shape)\n"
      ],
      "metadata": {
        "colab": {
          "base_uri": "https://localhost:8080/"
        },
        "id": "IlK-uVQXa8wz",
        "outputId": "22c55825-2f1e-49eb-e20b-9bdbc9a3e7b6"
      },
      "execution_count": null,
      "outputs": [
        {
          "output_type": "stream",
          "name": "stdout",
          "text": [
            "Train shape: (16, 34)\n",
            "Test shape: (4, 34)\n"
          ]
        }
      ]
    },
    {
      "cell_type": "markdown",
      "source": [
        "# **this are the preprocesseing steps done**\n",
        "\n",
        "\n",
        "Handling missing values\n",
        "\n",
        "Encoding categorical variables\n",
        "\n",
        "Outlier removal\n",
        "\n",
        "Scaling numerical features\n",
        "\n",
        "Splitting into train/test\n",
        "\n",
        "\n",
        "\n",
        "\n",
        "\n",
        "\n",
        "\n"
      ],
      "metadata": {
        "id": "8ZB7iOT7bAk1"
      }
    }
  ]
}