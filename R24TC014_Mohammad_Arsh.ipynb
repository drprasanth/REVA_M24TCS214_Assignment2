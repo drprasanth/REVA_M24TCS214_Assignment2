{
  "nbformat": 4,
  "nbformat_minor": 0,
  "metadata": {
    "colab": {
      "provenance": []
    },
    "kernelspec": {
      "name": "python3",
      "display_name": "Python 3"
    },
    "language_info": {
      "name": "python"
    }
  },
  "cells": [
    {
      "cell_type": "code",
      "execution_count": 4,
      "metadata": {
        "colab": {
          "base_uri": "https://localhost:8080/"
        },
        "id": "joNe7fRLLZ1a",
        "outputId": "38b61e4c-82d8-4b25-8d9b-1281e2a4db0a"
      },
      "outputs": [
        {
          "output_type": "stream",
          "name": "stdout",
          "text": [
            "Original Dataset (first 5 rows):\n",
            "   PassengerId  Survived  Pclass  \\\n",
            "0            1         0       3   \n",
            "1            2         1       1   \n",
            "2            3         1       3   \n",
            "3            4         1       1   \n",
            "4            5         0       3   \n",
            "\n",
            "                                                Name     Sex   Age  SibSp  \\\n",
            "0                            Braund, Mr. Owen Harris    male  22.0      1   \n",
            "1  Cumings, Mrs. John Bradley (Florence Briggs Th...  female  38.0      1   \n",
            "2                             Heikkinen, Miss. Laina  female  26.0      0   \n",
            "3       Futrelle, Mrs. Jacques Heath (Lily May Peel)  female  35.0      1   \n",
            "4                           Allen, Mr. William Henry    male  35.0      0   \n",
            "\n",
            "   Parch            Ticket     Fare Cabin Embarked  \n",
            "0      0         A/5 21171   7.2500   NaN        S  \n",
            "1      0          PC 17599  71.2833   C85        C  \n",
            "2      0  STON/O2. 3101282   7.9250   NaN        S  \n",
            "3      0            113803  53.1000  C123        S  \n",
            "4      0            373450   8.0500   NaN        S   \n",
            "\n",
            "Preprocessed Dataset (first 5 rows):\n",
            "   PassengerId  Survived  Pclass  \\\n",
            "0            1         0       3   \n",
            "1            2         1       1   \n",
            "2            3         1       3   \n",
            "3            4         1       1   \n",
            "4            5         0       3   \n",
            "\n",
            "                                                Name  Sex       Age  SibSp  \\\n",
            "0                            Braund, Mr. Owen Harris    1  0.271174  0.125   \n",
            "1  Cumings, Mrs. John Bradley (Florence Briggs Th...    0  0.472229  0.125   \n",
            "2                             Heikkinen, Miss. Laina    0  0.321438  0.000   \n",
            "3       Futrelle, Mrs. Jacques Heath (Lily May Peel)    0  0.434531  0.125   \n",
            "4                           Allen, Mr. William Henry    1  0.434531  0.000   \n",
            "\n",
            "   Parch            Ticket      Fare Cabin Embarked  FamilySize  \n",
            "0    0.0         A/5 21171  0.014151   NaN        S       0.125  \n",
            "1    0.0          PC 17599  0.139136   C85        C       0.125  \n",
            "2    0.0  STON/O2. 3101282  0.015469   NaN        S       0.000  \n",
            "3    0.0            113803  0.103644  C123        S       0.125  \n",
            "4    0.0            373450  0.015713   NaN        S       0.000  \n"
          ]
        }
      ],
      "source": [
        "import pandas as pd\n",
        "import numpy as np\n",
        "from sklearn.preprocessing import StandardScaler, MinMaxScaler, LabelEncoder\n",
        "from sklearn.impute import SimpleImputer\n",
        "\n",
        "# 1. Load Titanic dataset directly from online source\n",
        "url = \"https://raw.githubusercontent.com/datasciencedojo/datasets/master/titanic.csv\"\n",
        "df = pd.read_csv(url)\n",
        "\n",
        "print(\"Original Dataset (first 5 rows):\")\n",
        "print(df.head(), \"\\n\")\n",
        "\n",
        "# ---------------- PREPROCESSING STEPS ----------------\n",
        "\n",
        "# 2. Handle Missing Values (Introduce some NaN in 'age' for demo)\n",
        "df.loc[5:10, \"Age\"] = np.nan\n",
        "imputer = SimpleImputer(strategy=\"mean\")\n",
        "df[\"Age\"] = imputer.fit_transform(df[[\"Age\"]])\n",
        "\n",
        "# 3. Encode Categorical Column (sex → numbers)\n",
        "encoder = LabelEncoder()\n",
        "df[\"Sex\"] = encoder.fit_transform(df[\"Sex\"])\n",
        "\n",
        "# Select some numerical columns for scaling\n",
        "num_cols = [\"Age\", \"Fare\", \"SibSp\", \"Parch\"]\n",
        "\n",
        "# 4. Standardization (Z-score scaling)\n",
        "scaler = StandardScaler()\n",
        "df[num_cols] = scaler.fit_transform(df[num_cols])\n",
        "\n",
        "# 5. Min-Max Normalization (scale values between 0 and 1)\n",
        "minmax = MinMaxScaler()\n",
        "df[num_cols] = minmax.fit_transform(df[num_cols])\n",
        "\n",
        "# 6. Feature Engineering (family size = siblings/spouses + parents/children)\n",
        "df[\"FamilySize\"] = df[\"SibSp\"] + df[\"Parch\"]\n",
        "\n",
        "print(\"Preprocessed Dataset (first 5 rows):\")\n",
        "print(df.head())\n"
      ]
    }
  ]
}